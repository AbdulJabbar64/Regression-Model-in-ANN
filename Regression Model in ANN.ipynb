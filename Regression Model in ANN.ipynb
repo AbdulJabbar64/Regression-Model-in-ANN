{
 "cells": [
  {
   "cell_type": "code",
   "execution_count": 11,
   "id": "69fdaf88",
   "metadata": {},
   "outputs": [],
   "source": [
    "import numpy as np\n",
    "import pandas as pd\n",
    "import matplotlib.pyplot as plt\n",
    "import tensorflow as tf\n",
    "from tensorflow import keras\n",
    "from sklearn import datasets"
   ]
  },
  {
   "cell_type": "code",
   "execution_count": 14,
   "id": "46576ee1",
   "metadata": {},
   "outputs": [],
   "source": [
    "dataset = datasets.fetch_california_housing()"
   ]
  },
  {
   "cell_type": "code",
   "execution_count": 16,
   "id": "ca811007",
   "metadata": {},
   "outputs": [
    {
     "data": {
      "text/plain": [
       "array([[   8.3252    ,   41.        ,    6.98412698, ...,    2.55555556,\n",
       "          37.88      , -122.23      ],\n",
       "       [   8.3014    ,   21.        ,    6.23813708, ...,    2.10984183,\n",
       "          37.86      , -122.22      ],\n",
       "       [   7.2574    ,   52.        ,    8.28813559, ...,    2.80225989,\n",
       "          37.85      , -122.24      ],\n",
       "       ...,\n",
       "       [   1.7       ,   17.        ,    5.20554273, ...,    2.3256351 ,\n",
       "          39.43      , -121.22      ],\n",
       "       [   1.8672    ,   18.        ,    5.32951289, ...,    2.12320917,\n",
       "          39.43      , -121.32      ],\n",
       "       [   2.3886    ,   16.        ,    5.25471698, ...,    2.61698113,\n",
       "          39.37      , -121.24      ]])"
      ]
     },
     "execution_count": 16,
     "metadata": {},
     "output_type": "execute_result"
    }
   ],
   "source": [
    "dataset.data"
   ]
  },
  {
   "cell_type": "code",
   "execution_count": 17,
   "id": "219a22c1",
   "metadata": {},
   "outputs": [],
   "source": [
    "from sklearn.model_selection import train_test_split"
   ]
  },
  {
   "cell_type": "code",
   "execution_count": 19,
   "id": "435da776",
   "metadata": {},
   "outputs": [],
   "source": [
    "x_train_full, x_test, y_train_full, y_test = train_test_split(dataset.data, dataset.target, random_state=42)\n",
    "\n",
    "x_train, x_valid, y_train, y_valid = train_test_split(x_train_full, y_train_full, random_state=42)"
   ]
  },
  {
   "cell_type": "code",
   "execution_count": 24,
   "id": "ff120c06",
   "metadata": {},
   "outputs": [
    {
     "data": {
      "text/plain": [
       "(3870,)"
      ]
     },
     "execution_count": 24,
     "metadata": {},
     "output_type": "execute_result"
    }
   ],
   "source": [
    "y_valid.shape"
   ]
  },
  {
   "cell_type": "code",
   "execution_count": 28,
   "id": "a2027672",
   "metadata": {},
   "outputs": [],
   "source": [
    "from sklearn.preprocessing import StandardScaler\n",
    "scaler  = StandardScaler()\n",
    "\n",
    "x_train = scaler.fit_transform(x_train)\n",
    "x_valid = scaler.fit_transform(x_valid)\n",
    "x_test = scaler.fit_transform(x_test)"
   ]
  },
  {
   "cell_type": "code",
   "execution_count": 29,
   "id": "2948a58b",
   "metadata": {},
   "outputs": [],
   "source": [
    "np.random.seed(42)\n",
    "tf.random.set_seed(42)"
   ]
  },
  {
   "cell_type": "code",
   "execution_count": null,
   "id": "1b6ee11a",
   "metadata": {},
   "outputs": [],
   "source": []
  },
  {
   "cell_type": "code",
   "execution_count": 32,
   "id": "75cd1465",
   "metadata": {},
   "outputs": [],
   "source": [
    "model = keras.models.Sequential([\n",
    "    keras.layers.Dense(30, activation='relu', input_shape=[8]),\n",
    "    keras.layers.Dense(50, activation='relu'),\n",
    "    keras.layers.Dense(100, activation='relu'),\n",
    "    keras.layers.Dense(1)\n",
    "])\n"
   ]
  },
  {
   "cell_type": "code",
   "execution_count": 36,
   "id": "44fcbd02",
   "metadata": {},
   "outputs": [],
   "source": [
    "model.compile(loss='mse', optimizer = keras.optimizers.SGD(lr = 1e-3), metrics=['mae'])"
   ]
  },
  {
   "cell_type": "code",
   "execution_count": 41,
   "id": "eba1edcd",
   "metadata": {},
   "outputs": [
    {
     "name": "stdout",
     "output_type": "stream",
     "text": [
      "Epoch 1/25\n",
      "363/363 [==============================] - 1s 2ms/step - loss: 0.3279 - mae: 0.4020 - val_loss: 0.4092 - val_mae: 0.4483\n",
      "Epoch 2/25\n",
      "363/363 [==============================] - 1s 3ms/step - loss: 0.3275 - mae: 0.4017 - val_loss: 0.4065 - val_mae: 0.4522\n",
      "Epoch 3/25\n",
      "363/363 [==============================] - 1s 3ms/step - loss: 0.3270 - mae: 0.4019 - val_loss: 0.4092 - val_mae: 0.4487\n",
      "Epoch 4/25\n",
      "363/363 [==============================] - 1s 4ms/step - loss: 0.3267 - mae: 0.4013 - val_loss: 0.4067 - val_mae: 0.4512\n",
      "Epoch 5/25\n",
      "363/363 [==============================] - 1s 4ms/step - loss: 0.3262 - mae: 0.4007 - val_loss: 0.4082 - val_mae: 0.4525\n",
      "Epoch 6/25\n",
      "363/363 [==============================] - 1s 3ms/step - loss: 0.3257 - mae: 0.4009 - val_loss: 0.4103 - val_mae: 0.4481\n",
      "Epoch 7/25\n",
      "363/363 [==============================] - 1s 2ms/step - loss: 0.3252 - mae: 0.4000 - val_loss: 0.4089 - val_mae: 0.4495\n",
      "Epoch 8/25\n",
      "363/363 [==============================] - 1s 2ms/step - loss: 0.3248 - mae: 0.3999 - val_loss: 0.4092 - val_mae: 0.4482\n",
      "Epoch 9/25\n",
      "363/363 [==============================] - 1s 2ms/step - loss: 0.3242 - mae: 0.3997 - val_loss: 0.4105 - val_mae: 0.4460\n",
      "Epoch 10/25\n",
      "363/363 [==============================] - 1s 3ms/step - loss: 0.3238 - mae: 0.3992 - val_loss: 0.4091 - val_mae: 0.4459\n",
      "Epoch 11/25\n",
      "363/363 [==============================] - 1s 3ms/step - loss: 0.3235 - mae: 0.3986 - val_loss: 0.4088 - val_mae: 0.4485\n",
      "Epoch 12/25\n",
      "363/363 [==============================] - 1s 2ms/step - loss: 0.3230 - mae: 0.3988 - val_loss: 0.4087 - val_mae: 0.4462\n",
      "Epoch 13/25\n",
      "363/363 [==============================] - 1s 2ms/step - loss: 0.3225 - mae: 0.3981 - val_loss: 0.4050 - val_mae: 0.4489\n",
      "Epoch 14/25\n",
      "363/363 [==============================] - 1s 3ms/step - loss: 0.3219 - mae: 0.3976 - val_loss: 0.4067 - val_mae: 0.4494\n",
      "Epoch 15/25\n",
      "363/363 [==============================] - 1s 2ms/step - loss: 0.3216 - mae: 0.3975 - val_loss: 0.4063 - val_mae: 0.4479\n",
      "Epoch 16/25\n",
      "363/363 [==============================] - 1s 2ms/step - loss: 0.3213 - mae: 0.3975 - val_loss: 0.4050 - val_mae: 0.4480\n",
      "Epoch 17/25\n",
      "363/363 [==============================] - 1s 3ms/step - loss: 0.3207 - mae: 0.3972 - val_loss: 0.4073 - val_mae: 0.4476\n",
      "Epoch 18/25\n",
      "363/363 [==============================] - 1s 2ms/step - loss: 0.3203 - mae: 0.3967 - val_loss: 0.4091 - val_mae: 0.4454\n",
      "Epoch 19/25\n",
      "363/363 [==============================] - 1s 3ms/step - loss: 0.3195 - mae: 0.3962 - val_loss: 0.4097 - val_mae: 0.4451\n",
      "Epoch 20/25\n",
      "363/363 [==============================] - 1s 3ms/step - loss: 0.3192 - mae: 0.3956 - val_loss: 0.4059 - val_mae: 0.4476\n",
      "Epoch 21/25\n",
      "363/363 [==============================] - 1s 3ms/step - loss: 0.3186 - mae: 0.3953 - val_loss: 0.4061 - val_mae: 0.4488\n",
      "Epoch 22/25\n",
      "363/363 [==============================] - 1s 3ms/step - loss: 0.3181 - mae: 0.3955 - val_loss: 0.4064 - val_mae: 0.4525\n",
      "Epoch 23/25\n",
      "363/363 [==============================] - 1s 3ms/step - loss: 0.3179 - mae: 0.3953 - val_loss: 0.4145 - val_mae: 0.4419\n",
      "Epoch 24/25\n",
      "363/363 [==============================] - 1s 3ms/step - loss: 0.3174 - mae: 0.3943 - val_loss: 0.4098 - val_mae: 0.4457\n",
      "Epoch 25/25\n",
      "363/363 [==============================] - 1s 3ms/step - loss: 0.3169 - mae: 0.3941 - val_loss: 0.4078 - val_mae: 0.4446\n"
     ]
    }
   ],
   "source": [
    "model_history = model.fit(x_train,y_train, epochs=25, validation_data=(x_valid,y_valid))"
   ]
  },
  {
   "cell_type": "code",
   "execution_count": 42,
   "id": "118fd975",
   "metadata": {},
   "outputs": [
    {
     "name": "stdout",
     "output_type": "stream",
     "text": [
      "162/162 [==============================] - 0s 2ms/step - loss: 0.3695 - mae: 0.4306\n"
     ]
    },
    {
     "data": {
      "text/plain": [
       "[0.3695217967033386, 0.4305723309516907]"
      ]
     },
     "execution_count": 42,
     "metadata": {},
     "output_type": "execute_result"
    }
   ],
   "source": [
    "model.evaluate(x_test,y_test)"
   ]
  },
  {
   "cell_type": "code",
   "execution_count": 43,
   "id": "f5509fa2",
   "metadata": {
    "scrolled": true
   },
   "outputs": [
    {
     "data": {
      "text/plain": [
       "{'loss': [0.3278603255748749,\n",
       "  0.3274540901184082,\n",
       "  0.32703468203544617,\n",
       "  0.32674211263656616,\n",
       "  0.32622337341308594,\n",
       "  0.3256574273109436,\n",
       "  0.32522863149642944,\n",
       "  0.3248036503791809,\n",
       "  0.32420262694358826,\n",
       "  0.3237558901309967,\n",
       "  0.3234545886516571,\n",
       "  0.3229943811893463,\n",
       "  0.3224807679653168,\n",
       "  0.321855366230011,\n",
       "  0.3215672969818115,\n",
       "  0.3212542235851288,\n",
       "  0.32067930698394775,\n",
       "  0.3203377425670624,\n",
       "  0.3194582760334015,\n",
       "  0.3192281424999237,\n",
       "  0.31857606768608093,\n",
       "  0.3181023895740509,\n",
       "  0.31792783737182617,\n",
       "  0.3173982501029968,\n",
       "  0.31690457463264465],\n",
       " 'mae': [0.4020267128944397,\n",
       "  0.40166541934013367,\n",
       "  0.40192708373069763,\n",
       "  0.40126267075538635,\n",
       "  0.400709331035614,\n",
       "  0.40092289447784424,\n",
       "  0.40001556277275085,\n",
       "  0.3999043107032776,\n",
       "  0.39967080950737,\n",
       "  0.3992030620574951,\n",
       "  0.3986469507217407,\n",
       "  0.39878350496292114,\n",
       "  0.3980911076068878,\n",
       "  0.3975505232810974,\n",
       "  0.3975432813167572,\n",
       "  0.39748111367225647,\n",
       "  0.3971509337425232,\n",
       "  0.3966968357563019,\n",
       "  0.3961828649044037,\n",
       "  0.39561471343040466,\n",
       "  0.39530149102211,\n",
       "  0.3954881429672241,\n",
       "  0.3952658474445343,\n",
       "  0.39430540800094604,\n",
       "  0.39407843351364136],\n",
       " 'val_loss': [0.40919414162635803,\n",
       "  0.4065489172935486,\n",
       "  0.4092043936252594,\n",
       "  0.40673014521598816,\n",
       "  0.40819287300109863,\n",
       "  0.4103333353996277,\n",
       "  0.4089473783969879,\n",
       "  0.4091673195362091,\n",
       "  0.4104922413825989,\n",
       "  0.4090537130832672,\n",
       "  0.40880951285362244,\n",
       "  0.4086570739746094,\n",
       "  0.4050305187702179,\n",
       "  0.4066917598247528,\n",
       "  0.4063316285610199,\n",
       "  0.4049973487854004,\n",
       "  0.4072960317134857,\n",
       "  0.409101277589798,\n",
       "  0.4096505343914032,\n",
       "  0.40591129660606384,\n",
       "  0.4060790240764618,\n",
       "  0.406369686126709,\n",
       "  0.4144943952560425,\n",
       "  0.40982869267463684,\n",
       "  0.40783563256263733],\n",
       " 'val_mae': [0.44832950830459595,\n",
       "  0.45215675234794617,\n",
       "  0.4486824572086334,\n",
       "  0.4512357711791992,\n",
       "  0.45254650712013245,\n",
       "  0.4481358230113983,\n",
       "  0.44952964782714844,\n",
       "  0.44815266132354736,\n",
       "  0.44603121280670166,\n",
       "  0.4458703398704529,\n",
       "  0.4484561085700989,\n",
       "  0.44618552923202515,\n",
       "  0.4489191174507141,\n",
       "  0.4494474232196808,\n",
       "  0.44785118103027344,\n",
       "  0.4479740858078003,\n",
       "  0.4476102292537689,\n",
       "  0.44540926814079285,\n",
       "  0.4451224207878113,\n",
       "  0.44760435819625854,\n",
       "  0.4487818479537964,\n",
       "  0.4524993896484375,\n",
       "  0.44190263748168945,\n",
       "  0.4457242488861084,\n",
       "  0.4445745646953583]}"
      ]
     },
     "execution_count": 43,
     "metadata": {},
     "output_type": "execute_result"
    }
   ],
   "source": [
    "model_history.history"
   ]
  },
  {
   "cell_type": "code",
   "execution_count": 47,
   "id": "6e64072b",
   "metadata": {},
   "outputs": [
    {
     "data": {
      "image/png": "[encoded data removed]",
      "text/plain": [
       "<Figure size 576x360 with 1 Axes>"
      ]
     },
     "metadata": {
      "needs_background": "light"
     },
     "output_type": "display_data"
    }
   ],
   "source": [
    "pd.DataFrame(model_history.history).plot(figsize=(8, 5))\n",
    "plt.grid(True)\n",
    "plt.gca().set_ylim(0, 1)\n",
    "plt.show()"
   ]
  },
  {
   "cell_type": "code",
   "execution_count": 49,
   "id": "f3a12285",
   "metadata": {},
   "outputs": [
    {
     "name": "stdout",
     "output_type": "stream",
     "text": [
      "[[0.6130015]\n",
      " [1.8890285]\n",
      " [5.166695 ]]\n",
      "[0.477   0.458   5.00001]\n"
     ]
    }
   ],
   "source": [
    "pred = model.predict(x_test[:3])\n",
    "print(pred)\n",
    "print(y_test[:3])"
   ]
  },
  {
   "cell_type": "code",
   "execution_count": null,
   "id": "4a8a4ac3",
   "metadata": {},
   "outputs": [],
   "source": []
  }
 ],
 "metadata": {
  "kernelspec": {
   "display_name": "Python 3 (ipykernel)",
   "language": "python",
   "name": "python3"
  },
  "language_info": {
   "codemirror_mode": {
    "name": "ipython",
    "version": 3
   },
   "file_extension": ".py",
   "mimetype": "text/x-python",
   "name": "python",
   "nbconvert_exporter": "python",
   "pygments_lexer": "ipython3",
   "version": "3.9.6"
  }
 },
 "nbformat": 4,
 "nbformat_minor": 5
}
